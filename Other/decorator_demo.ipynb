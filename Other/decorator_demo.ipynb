{
 "cells": [
  {
   "cell_type": "code",
   "execution_count": 11,
   "metadata": {},
   "outputs": [
    {
     "name": "stdout",
     "output_type": "stream",
     "text": [
      "Hash me  5\n",
      "Count me  5\n",
      "{25: 25}\n"
     ]
    }
   ],
   "source": [
    "hash_dict = dict()\n",
    "\n",
    "def decorator_func(func):\n",
    "    def hashing_func(arg):\n",
    "        print('Hash me ', arg)\n",
    "        value = func(arg)\n",
    "        hash_dict[hash(value)] = value\n",
    "        print(hash_dict)\n",
    "    return hashing_func\n",
    "    \n",
    "@decorator_func\n",
    "def simp_oper(x):\n",
    "    print('Count me ', x)\n",
    "    return x**2\n",
    "\n",
    "if __name__ == '__main__':\n",
    "    simp_oper(5)"
   ]
  },
  {
   "cell_type": "code",
   "execution_count": null,
   "metadata": {},
   "outputs": [],
   "source": []
  }
 ],
 "metadata": {
  "kernelspec": {
   "display_name": "Python 3",
   "language": "python",
   "name": "python3"
  },
  "language_info": {
   "codemirror_mode": {
    "name": "ipython",
    "version": 3
   },
   "file_extension": ".py",
   "mimetype": "text/x-python",
   "name": "python",
   "nbconvert_exporter": "python",
   "pygments_lexer": "ipython3",
   "version": "3.7.4"
  }
 },
 "nbformat": 4,
 "nbformat_minor": 2
}
